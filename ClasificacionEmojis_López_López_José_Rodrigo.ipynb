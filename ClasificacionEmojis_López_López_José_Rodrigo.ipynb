{
  "cells": [
    {
      "cell_type": "markdown",
      "id": "53cd07fb",
      "metadata": {
        "id": "53cd07fb"
      },
      "source": [
        "\n",
        "# Clasificación de frases según emojis | k-Nearest Neighbors\n",
        "\n",
        "Este notebook implementa un modelo k-NN para clasificar frases cortas asociándolas a emojis (descripciones textuales) según su tonalidad. Los pasos son:\n",
        "\n",
        "1. Crear un dataset con frases y emojis asociados (descripciones textuales).\n",
        "2. Representar las frases en forma de vectores utilizando TF-IDF.\n",
        "3. Aplicar el modelo k-NN para clasificar las frases.\n",
        "4. Presentar los resultados con un análisis de las predicciones.\n"
      ]
    },
    {
      "cell_type": "code",
      "execution_count": 2,
      "id": "a94e406f",
      "metadata": {
        "colab": {
          "base_uri": "https://localhost:8080/"
        },
        "id": "a94e406f",
        "outputId": "f8f3427b-2061-48be-c6c3-23d06517226e"
      },
      "outputs": [
        {
          "output_type": "stream",
          "name": "stdout",
          "text": [
            "Reporte de clasificación:\n",
            "              precision    recall  f1-score   support\n",
            "\n",
            "     agotado       0.33      1.00      0.50         1\n",
            "      comida       1.00      1.00      1.00         1\n",
            "   delicioso       1.00      1.00      1.00         1\n",
            "   encantado       1.00      0.00      0.00         2\n",
            "     enojado       1.00      1.00      1.00         1\n",
            "       feliz       1.00      1.00      1.00         1\n",
            "   increíble       1.00      0.00      0.00         2\n",
            "       logro       0.33      1.00      0.50         1\n",
            "       sueño       1.00      1.00      1.00         1\n",
            "      triste       1.00      1.00      1.00         1\n",
            "\n",
            "    accuracy                           0.67        12\n",
            "   macro avg       0.87      0.80      0.70        12\n",
            "weighted avg       0.89      0.67      0.58        12\n",
            "\n",
            "Exactitud: 0.6666666666666666\n",
            "\n",
            "Resultados de predicciones:\n",
            "\n",
            "                       Frase Emoji Real Emoji Predicho\n",
            "0          Me siento agotado    agotado        agotado\n",
            "1              Estoy enojado    enojado        enojado\n",
            "2   Qué comida tan deliciosa  delicioso      delicioso\n",
            "3            Estoy muy feliz      feliz          feliz\n",
            "4               Estoy triste     triste         triste\n",
            "5      Este día es increíble  increíble          logro\n",
            "6      Me encanta este lugar  encantado        agotado\n",
            "7      Este es un gran logro      logro          logro\n",
            "8                Tengo sueño      sueño          sueño\n",
            "9         Tengo mucha hambre     comida         comida\n",
            "10     Este día es increíble  increíble          logro\n",
            "11     Me encanta este lugar  encantado        agotado\n"
          ]
        }
      ],
      "source": [
        "\n",
        "import pandas as pd\n",
        "import numpy as np\n",
        "from sklearn.feature_extraction.text import TfidfVectorizer\n",
        "from sklearn.model_selection import train_test_split\n",
        "from sklearn.neighbors import KNeighborsClassifier\n",
        "from sklearn.metrics import classification_report, accuracy_score\n",
        "\n",
        "data = {\n",
        "    \"frase\": [\n",
        "        \"Estoy muy feliz\",\n",
        "        \"Tengo mucha hambre\",\n",
        "        \"Me encanta este lugar\",\n",
        "        \"Estoy triste\",\n",
        "        \"Qué comida tan deliciosa\",\n",
        "        \"Estoy enojado\",\n",
        "        \"Este día es increíble\",\n",
        "        \"Tengo sueño\",\n",
        "        \"Me siento agotado\",\n",
        "        \"Este es un gran logro\",\n",
        "    ],\n",
        "    \"emoji\": [\n",
        "        \"feliz\",       # Emoji feliz\n",
        "        \"comida\",      # Emoji comida\n",
        "        \"encantado\",   # Emoji encantado\n",
        "        \"triste\",      # Emoji triste\n",
        "        \"delicioso\",   # Emoji delicioso\n",
        "        \"enojado\",     # Emoji enojado\n",
        "        \"increíble\",   # Emoji increíble\n",
        "        \"sueño\",       # Emoji sueño\n",
        "        \"agotado\",     # Emoji agotado\n",
        "        \"logro\",       # Emoji logro\n",
        "    ]\n",
        "}\n",
        "\n",
        "while len(data[\"frase\"]) < 30:\n",
        "    data[\"frase\"] += data[\"frase\"][:10]\n",
        "    data[\"emoji\"] += data[\"emoji\"][:10]\n",
        "\n",
        "df = pd.DataFrame(data)\n",
        "vectorizer = TfidfVectorizer()\n",
        "X = vectorizer.fit_transform(df[\"frase\"])\n",
        "y = df[\"emoji\"]\n",
        "\n",
        "X_train, X_test, y_train, y_test = train_test_split(X, y, test_size=0.4, random_state=42, stratify=y)\n",
        "knn = KNeighborsClassifier(n_neighbors=3)\n",
        "knn.fit(X_train, y_train)\n",
        "\n",
        "y_pred = knn.predict(X_test)\n",
        "\n",
        "# Presentar los resultados con predicciones correctas e incorrectas\n",
        "print(\"Reporte de clasificación:\")\n",
        "print(classification_report(y_test, y_pred, zero_division=1))\n",
        "print(\"Exactitud:\", accuracy_score(y_test, y_pred))\n",
        "\n",
        "# Ejemplos de predicciones\n",
        "results = pd.DataFrame({\"Frase\": df.loc[y_test.index, \"frase\"].reset_index(drop=True), \"Emoji Real\": y_test.reset_index(drop=True), \"Emoji Predicho\": pd.Series(y_pred)})\n",
        "print(\"\\nResultados de predicciones:\\n\")\n",
        "print(results)\n"
      ]
    },
    {
      "cell_type": "markdown",
      "source": [
        "# Conclusiones\n",
        "\n",
        "El modelo de k-Nearest Neighbors (k-NN) utilizado en este análisis logró predecir correctamente la mayoría de las clases en el conjunto de prueba, destacándose en frases con tonalidades claramente diferenciadas, como emociones positivas o frases relacionadas con contextos específicos, como la comida. Esto demuestra que la representación vectorial TF-IDF es efectiva para capturar palabras clave relevantes que permiten asociar una frase con un emoji específico.\n",
        "\n",
        "Sin embargo, se observaron errores en las predicciones, principalmente en aquellas frases que comparten similitudes semánticas o que expresan emociones ambiguas. Este comportamiento refleja una limitación inherente del modelo k-NN, ya que depende de la proximidad en el espacio vectorial y puede verse afectado por la falta de diversidad en los datos o por ruido en las frases analizadas.\n",
        "\n",
        "En conclusión, el modelo k-NN es adecuado para resolver problemas con clases bien definidas y datos representativos. Sin embargo, en situaciones donde las frases presentan significados similares o los datos no son lo suficientemente diversos, su desempeño se ve afectado. Para mejorar los resultados, sería recomendable explorar modelos más avanzados, como redes neuronales o métodos basados en transformers, y enriquecer el conjunto de datos para incluir una mayor variedad y balance en las clases representadas."
      ],
      "metadata": {
        "id": "3JicGCYJ17LT"
      },
      "id": "3JicGCYJ17LT"
    }
  ],
  "metadata": {
    "colab": {
      "provenance": []
    },
    "language_info": {
      "name": "python"
    },
    "kernelspec": {
      "name": "python3",
      "display_name": "Python 3"
    }
  },
  "nbformat": 4,
  "nbformat_minor": 5
}